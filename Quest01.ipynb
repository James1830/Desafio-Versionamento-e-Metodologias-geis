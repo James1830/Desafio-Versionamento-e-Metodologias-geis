{
  "nbformat": 4,
  "nbformat_minor": 0,
  "metadata": {
    "colab": {
      "provenance": [],
      "authorship_tag": "ABX9TyPj/US7OVW063jvh5WyhMIb",
      "include_colab_link": true
    },
    "kernelspec": {
      "name": "python3",
      "display_name": "Python 3"
    },
    "language_info": {
      "name": "python"
    }
  },
  "cells": [
    {
      "cell_type": "markdown",
      "metadata": {
        "id": "view-in-github",
        "colab_type": "text"
      },
      "source": [
        "<a href=\"https://colab.research.google.com/github/James1830/Desafio-Versionamento-e-Metodologias-geis/blob/main/Quest01.ipynb\" target=\"_parent\"><img src=\"https://colab.research.google.com/assets/colab-badge.svg\" alt=\"Open In Colab\"/></a>"
      ]
    },
    {
      "cell_type": "code",
      "execution_count": 9,
      "metadata": {
        "colab": {
          "base_uri": "https://localhost:8080/"
        },
        "id": "CEivJGPXz-6T",
        "outputId": "ebce9ead-3371-4f68-b240-67a02d62e68a"
      },
      "outputs": [
        {
          "output_type": "stream",
          "name": "stdout",
          "text": [
            ">>>>>>>>>>>>>>>Módulo comercial - ATACADÃO MEGA<<<<<<<<<<<<<<<\n",
            "\n",
            "Seja bem-vindo ao nosso carrinho de vendas James Oliveira\n",
            "\n",
            "Digite o valor unitário do produto: 3000\n",
            "Digite a quantidade do produto: 1\n",
            "Parabéns, você recebeu um desconto de 4%\n",
            "Valor total do produto: R$ 3000.0\n",
            "Valor total do produto com o desconto: R$ 3120.0\n",
            "\n",
            "Muito obrigado por comprar conosco!\n"
          ]
        }
      ],
      "source": [
        "\n",
        "# Declaração de variáveis\n",
        "simbolo01 = '>'* 15\n",
        "simbolo02 = '<'* 15\n",
        "clienteNome = 'James'\n",
        "clienteSobreNome = 'Oliveira'\n",
        "valorUnitario = 0\n",
        "quantidade = 0\n",
        "valorTotal = 0\n",
        "desconto = 0\n",
        "\n",
        "\n",
        "print(simbolo01 + 'Módulo comercial - ATACADÃO MEGA' + simbolo02)\n",
        "print() # Linha em branco\n",
        "print('Seja bem-vindo ao nosso carrinho de vendas '+ clienteNome + ' ' + clienteSobreNome)\n",
        "print() # Linha em branco\n",
        "valorUnitario = float(input('Digite o valor unitário do produto: '))\n",
        "quantidade = int(input('Digite a quantidade do produto: '))\n",
        "valorTotal = valorUnitario * quantidade\n",
        "\n",
        "# Definição SE o pedido é eletivo para a promoção, caso seja, apresentar o desconto\n",
        "if(valorTotal < 2500):\n",
        "  print('Que pena, o valor total do produto não alcansa o valor mínimo da promoção')\n",
        "  print('Valor total do produto: R$ '+ str(valorTotal))\n",
        "elif(valorTotal > 2500 and valorTotal <= 6000):\n",
        "  quatro = valorTotal * 0.04\n",
        "  desconto = valorTotal + quatro\n",
        "  print('Parabéns, você recebeu um desconto de 4%')\n",
        "  print('Valor total do produto: R$ '+ str(valorTotal))\n",
        "  print('Valor total do produto com o desconto: R$ '+ str(desconto))\n",
        "elif(valorTotal > 6000 and valorTotal <= 10000):\n",
        "  sete = valorTotal * 0.07\n",
        "  desconto = valorTotal + sete\n",
        "  print('Parabéns, você recebeu um desconto de 7%')\n",
        "  print('Valor total do produto: R$ ' + str(valorTotal))\n",
        "  print('Valor total do produto com o desconto: R$ ' + str(desconto))\n",
        "else:\n",
        "  onze = valorTotal * 0.11\n",
        "  desconto = valorTotal + onze\n",
        "  print('Parabéns, você recebeu um desconto de 11%')\n",
        "  print('Valor total do produto: R$ ' + str(valorTotal))\n",
        "  print('Valor total do produto com o desconto: R$ ' + str(desconto))\n",
        "print() # Linha em branco\n",
        "print('Muito obrigado por comprar conosco!')\n",
        "\n",
        "\n",
        "\n",
        "\n",
        "\n",
        "\n",
        "\n",
        "\n",
        "\n"
      ]
    }
  ]
}